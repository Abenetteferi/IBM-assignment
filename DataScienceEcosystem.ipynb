{
 "cells": [
  {
   "cell_type": "markdown",
   "id": "ebf3b071-3a13-490c-95d7-a9b775288927",
   "metadata": {},
   "source": [
    "# Data Science Tools and Ecosystem"
   ]
  },
  {
   "cell_type": "markdown",
   "id": "dd31ad30-3078-4a8b-aa68-f152a186d4ff",
   "metadata": {},
   "source": [
    "## Introduction\n",
    "   In this notebook, Data Science Tools and Ecosystem are summarized.\n",
    "   "
   ]
  },
  {
   "cell_type": "markdown",
   "id": "ab8e224e-ce15-468b-9025-ad6cf6b861c0",
   "metadata": {},
   "source": [
    "##  **Objectives:**\n",
    "    - To See data science languages\n",
    "    - Data science Librarires\n",
    "    - Data science Tools\n",
    "    - Arthimetic Operations\n",
    "    "
   ]
  },
  {
   "cell_type": "markdown",
   "id": "c58844fd-281b-41c4-bf6f-3081a3dbb11f",
   "metadata": {},
   "source": [
    "## Data science languages\n",
    "    Some of the popular languages that Data Scientists use are:\n",
    "         1. Python\n",
    "         2. R\n",
    "         3. Julia"
   ]
  },
  {
   "cell_type": "markdown",
   "id": "3c54f3ac-2695-4f46-b9fd-622071a3650d",
   "metadata": {},
   "source": [
    "## Data science Libraries\n",
    "   Some of the commonly used libraries used by Data Scientists include:\n",
    "   \n",
    "                 1. Pandas\n",
    "                 2. Matplot\n",
    "                 3. Plotly\n",
    "                 4. ggplot"
   ]
  },
  {
   "cell_type": "markdown",
   "id": "2de5bd43-c374-4a67-ae1c-e5998966c5c3",
   "metadata": {},
   "source": [
    "## Data Science tools\n",
    "| Data Science Tools |\n",
    "|--------------------|\n",
    "|Jupyter Notebook|\n",
    "|Anaconda|\n",
    "|GitHub|\n"
   ]
  },
  {
   "cell_type": "markdown",
   "id": "8f156afc-ee82-4d95-99c1-995a90291591",
   "metadata": {},
   "source": [
    "### Below are a few examples of evaluating arithmetic expressions in Python.\n",
    "    - A + B   #Addition\n",
    "    - A - B   #Subtraction"
   ]
  },
  {
   "cell_type": "code",
   "execution_count": 6,
   "id": "456df6b6-a187-4ca6-8c68-5d08bebb950e",
   "metadata": {},
   "outputs": [
    {
     "data": {
      "text/plain": [
       "17"
      ]
     },
     "execution_count": 6,
     "metadata": {},
     "output_type": "execute_result"
    }
   ],
   "source": [
    "# This a simple arithmetic expression to mutiply then add integers.\n",
    "(3*4)+5"
   ]
  },
  {
   "cell_type": "code",
   "execution_count": 11,
   "id": "6bf6093a-2eb8-4773-add5-9653f535854d",
   "metadata": {},
   "outputs": [
    {
     "name": "stdout",
     "output_type": "stream",
     "text": [
      "200 minutes in hours is 3 hours and 20 minutes\n"
     ]
    }
   ],
   "source": [
    "# This will convert 200 minutes to hours by diving by 60.\n",
    "A = 200//60\n",
    "B = 200%60\n",
    "print(\"200 minutes in hours is \" + str(A) + \" hours and \" + str(B) + \" minutes\")"
   ]
  },
  {
   "cell_type": "markdown",
   "id": "e7ca27b7-83c5-4176-b1d2-ee0a6fc04af6",
   "metadata": {},
   "source": [
    "## Author \n",
    "Abenet Teferi Mekonnen"
   ]
  },
  {
   "cell_type": "code",
   "execution_count": null,
   "id": "d1ade2c9-f707-485c-92e0-97c135686fbf",
   "metadata": {},
   "outputs": [],
   "source": []
  }
 ],
 "metadata": {
  "kernelspec": {
   "display_name": "Python 3 (ipykernel)",
   "language": "python",
   "name": "python3"
  },
  "language_info": {
   "codemirror_mode": {
    "name": "ipython",
    "version": 3
   },
   "file_extension": ".py",
   "mimetype": "text/x-python",
   "name": "python",
   "nbconvert_exporter": "python",
   "pygments_lexer": "ipython3",
   "version": "3.11.7"
  }
 },
 "nbformat": 4,
 "nbformat_minor": 5
}
